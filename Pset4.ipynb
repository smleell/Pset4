{
 "cells": [
  {
   "cell_type": "code",
   "execution_count": 1,
   "id": "9e3b4629-2e4e-4b7a-9018-fea8b5742605",
   "metadata": {
    "tags": []
   },
   "outputs": [
    {
     "name": "stdin",
     "output_type": "stream",
     "text": [
      "Enter a date (YYYY-MM-DD) or press Enter for today’s APOD:  2001-04-04\n"
     ]
    },
    {
     "name": "stdout",
     "output_type": "stream",
     "text": [
      "Title: Distant Supernova, Dark Energy\n",
      "Date: 2001-04-04\n",
      "Description: A pinpoint of light from a star that exploded over 10 billion light-years away is centered in the panel at the lower right, a cosmic snapshot of the most distant supernova.  The ancient stellar detonation was detected by digitally subtracting before and after images of a faint, yellowish, elliptical galaxy included in the Hubble Space Telescope Deep Field image illustrated at the top and left. Remarkable in itself as the farthest known supernova, its measured brightness provides astounding evidence for a strange universe - one which eventually defies gravity and expands at an accelerating rate. The unseen force driving this expansion is attributed to \"dark energy\" and discovering the fundamental nature of dark energy has been called the challenge of this millennium.\n",
      "Media URL: https://apod.nasa.gov/apod/image/0104/distantsn_hst.jpg\n"
     ]
    }
   ],
   "source": [
    "import requests\n",
    "import webbrowser\n",
    "\n",
    "# NASA APOD API endpoint\n",
    "api_url = \"https://api.nasa.gov/planetary/apod\"\n",
    "api_key = \"2bLX02RFYPWKiSYidX2Kn6jiJf7yBqQOgXMgP6wB\"\n",
    "def fetch_apod(date=None):\n",
    "    params = {\n",
    "        \"api_key\": api_key,\n",
    "        \"date\": date  # Optional: Use 'YYYY-MM-DD' format. Defaults to today's APOD.\n",
    "    }\n",
    "\n",
    "    try:\n",
    "        response = requests.get(api_url, params=params)\n",
    "        response.raise_for_status()  # Check for HTTP errors\n",
    "\n",
    "        # Parse JSON response\n",
    "        data = response.json()\n",
    "\n",
    "        # Check if essential fields exist, otherwise print the error message\n",
    "        if 'url' not in data or 'title' not in data:\n",
    "            print(\"Unexpected response structure:\", data)\n",
    "            return\n",
    "\n",
    "        # Display the APOD info\n",
    "        print(f\"Title: {data.get('title', 'N/A')}\")\n",
    "        print(f\"Date: {data.get('date', 'N/A')}\")\n",
    "        print(f\"Description: {data.get('explanation', 'No description available.')}\")\n",
    "        print(f\"Media URL: {data['url']}\")\n",
    "\n",
    "        # Open the image or video URL in the browser\n",
    "        if data.get(\"media_type\") == \"image\":\n",
    "            webbrowser.open(data['url'])\n",
    "        else:\n",
    "            print(\"The media is a video. Visit the link to watch it.\")\n",
    "\n",
    "    except requests.exceptions.RequestException as e:\n",
    "        print(f\"HTTP error: {e}\")\n",
    "\n",
    "# Main program\n",
    "if __name__ == \"__main__\":\n",
    "    date = input(\"Enter a date (YYYY-MM-DD) or press Enter for today’s APOD: \")\n",
    "    fetch_apod(date.strip() or None)\n"
   ]
  }
 ],
 "metadata": {
  "kernelspec": {
   "display_name": "UFRC Python-3.10",
   "language": "python",
   "name": "python3-3.10-ufrc"
  },
  "language_info": {
   "codemirror_mode": {
    "name": "ipython",
    "version": 3
   },
   "file_extension": ".py",
   "mimetype": "text/x-python",
   "name": "python",
   "nbconvert_exporter": "python",
   "pygments_lexer": "ipython3",
   "version": "3.10.8"
  }
 },
 "nbformat": 4,
 "nbformat_minor": 5
}
